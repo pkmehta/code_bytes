{
 "cells": [
  {
   "cell_type": "markdown",
   "metadata": {},
   "source": [
    "## Simple Email Using SMTP"
   ]
  },
  {
   "cell_type": "code",
   "execution_count": 1,
   "metadata": {},
   "outputs": [],
   "source": [
    "#Importing the smtplib module\n",
    "import smtplib"
   ]
  },
  {
   "cell_type": "code",
   "execution_count": null,
   "metadata": {},
   "outputs": [],
   "source": [
    "# Making a connection with the SMTP Server\n",
    "s = smtplib.SMTP('smtp.gmail.com', 587)\n",
    "\n",
    "# For security purposes we need to start the \"tls\" which stands for transport layer security\n",
    "s.starttls()\n",
    "\n",
    "# Providing the authentication details \n",
    "s.login(\"xxx@gmail.com\", \"password\")\n",
    "sender ='xxx@gmail.com'\n",
    "recipients = [\"recipient1@xyz.com\",\"recipient2@abc.com\"] # list of recipients\n",
    "subject = \"write your subject here\"\n",
    "content = \"write your content here\"\n",
    "\n",
    "message = f\"Subject: {subject}\\n\\n{content}\"\n",
    "\n",
    "s.sendmail(sender, recipients, message)\n",
    "\n",
    "# Closing the connection with the Server\n",
    "s.quit()"
   ]
  }
 ],
 "metadata": {
  "kernelspec": {
   "display_name": "Python 3",
   "language": "python",
   "name": "python3"
  },
  "language_info": {
   "codemirror_mode": {
    "name": "ipython",
    "version": 3
   },
   "file_extension": ".py",
   "mimetype": "text/x-python",
   "name": "python",
   "nbconvert_exporter": "python",
   "pygments_lexer": "ipython3",
   "version": "3.7.3"
  }
 },
 "nbformat": 4,
 "nbformat_minor": 2
}
