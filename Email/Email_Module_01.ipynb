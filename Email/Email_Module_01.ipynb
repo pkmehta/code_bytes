{
 "cells": [
  {
   "cell_type": "markdown",
   "metadata": {},
   "source": [
    "## Simple Email"
   ]
  },
  {
   "cell_type": "code",
   "execution_count": null,
   "metadata": {},
   "outputs": [],
   "source": [
    "#Importing the smtplib module\n",
    "import smtplib"
   ]
  },
  {
   "cell_type": "code",
   "execution_count": null,
   "metadata": {},
   "outputs": [],
   "source": [
    "# Making a connection with the SMTP Server\n",
    "s = smtplib.SMTP('smtp.gmail.com', 587)\n",
    "\n",
    "# For security purposes we need to start the \"tls\" which stands for transport layer security\n",
    "s.starttls()\n",
    "\n",
    "# Providing the authentication details \n",
    "s.login(\"xxx@gmail.com\", \"password\")\n",
    "sender ='xxx@gmail.com'\n",
    "recipients = [\"recipient1@xyz.com\",\"recipient2@abc.com\"] # list of recipients\n",
    "subject = \"write your subject here\"\n",
    "content = \"write your content here\"\n",
    "\n",
    "message = f\"Subject: {subject}\\n\\n{content}\"\n",
    "\n",
    "s.sendmail(sender, recipients, message)\n",
    "\n",
    "# Closing the connection with the Server\n",
    "s.quit()"
   ]
  },
  {
   "cell_type": "markdown",
   "metadata": {},
   "source": [
    "## Sending Attachment in the Email"
   ]
  },
  {
   "cell_type": "code",
   "execution_count": null,
   "metadata": {},
   "outputs": [],
   "source": [
    "# importing for email\n",
    "import smtplib\n",
    "from email.message import EmailMessage"
   ]
  },
  {
   "cell_type": "code",
   "execution_count": null,
   "metadata": {},
   "outputs": [],
   "source": [
    "content = \"write your content here\" # use \\n for the new line\n",
    "\n",
    "msg = EmailMessage()\n",
    "msg['Subject'] = \"write your subject here\"\n",
    "msg['From'] = 'xxx@gmail.com'\n",
    "\n",
    "msg['To']= ['recipient1@xyz.com',\"recipient2@abc.com\"] # list of recipients\n",
    "msg.set_content(content)\n",
    "\n",
    "with open(f\"xyz.xlsx\",'rb') as f:\n",
    "    file_data =f.read()\n",
    "    file_name = f.name\n",
    "\n",
    "msg.add_attachment(file_data,maintype = 'application', subtype='octet-stream',filename=file_name)\n",
    "\n",
    "s = smtplib.SMTP('smtp.gmail.com', 587)\n",
    "s.starttls()\n",
    "s.login(\"xxx@gmail.com\", \"password\")\n",
    "\n",
    "s.send_message(msg)\n",
    "s.quit()"
   ]
  }
 ],
 "metadata": {
  "kernelspec": {
   "display_name": "Python 3",
   "language": "python",
   "name": "python3"
  },
  "language_info": {
   "codemirror_mode": {
    "name": "ipython",
    "version": 3
   },
   "file_extension": ".py",
   "mimetype": "text/x-python",
   "name": "python",
   "nbconvert_exporter": "python",
   "pygments_lexer": "ipython3",
   "version": "3.7.3"
  }
 },
 "nbformat": 4,
 "nbformat_minor": 2
}
